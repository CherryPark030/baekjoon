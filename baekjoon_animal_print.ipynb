{
 "cells": [
  {
   "cell_type": "markdown",
   "id": "3eaf1b81",
   "metadata": {},
   "source": [
    "## 고양이 문제"
   ]
  },
  {
   "cell_type": "code",
   "execution_count": 18,
   "id": "abae00fd",
   "metadata": {},
   "outputs": [
    {
     "name": "stdout",
     "output_type": "stream",
     "text": [
      "\\    /\\\n",
      " )  ( ')\n",
      "(  /  )\n",
      " \\(__)|\n",
      " \n"
     ]
    }
   ],
   "source": [
    "print(\"\"\"\\    /\\\\\n",
    " )  ( ')\n",
    "(  /  )\n",
    " \\(__)|\n",
    " \"\"\")"
   ]
  },
  {
   "cell_type": "code",
   "execution_count": 28,
   "id": "03123a22",
   "metadata": {},
   "outputs": [
    {
     "name": "stdout",
     "output_type": "stream",
     "text": [
      "|\\_/|\n",
      "|q p|   /}\n",
      "( 0 )\"\"\"\\\n",
      "|\"^\"`    |\n",
      "||_/=\\\\__|\n"
     ]
    }
   ],
   "source": [
    "print('''|\\_/|\n",
    "|q p|   /}\n",
    "( 0 )\"\"\"\\\\\n",
    "|\"^\"`    |\n",
    "||_/=\\\\\\__|''')\n"
   ]
  },
  {
   "cell_type": "code",
   "execution_count": 29,
   "id": "45d003b5",
   "metadata": {},
   "outputs": [
    {
     "name": "stdout",
     "output_type": "stream",
     "text": [
      "         ,r'\"7\n",
      "r`-_   ,'  ,/\n",
      " \\. \". L_r'\n",
      "   `~\\/\n",
      "      |\n",
      "      |\n"
     ]
    }
   ],
   "source": [
    "print('''         ,r'\"7\n",
    "r`-_   ,'  ,/\n",
    " \\. \". L_r'\n",
    "   `~\\/\n",
    "      |\n",
    "      |''')"
   ]
  },
  {
   "cell_type": "code",
   "execution_count": null,
   "id": "b3925f40",
   "metadata": {},
   "outputs": [],
   "source": []
  }
 ],
 "metadata": {
  "kernelspec": {
   "display_name": "Python 3",
   "language": "python",
   "name": "python3"
  },
  "language_info": {
   "codemirror_mode": {
    "name": "ipython",
    "version": 3
   },
   "file_extension": ".py",
   "mimetype": "text/x-python",
   "name": "python",
   "nbconvert_exporter": "python",
   "pygments_lexer": "ipython3",
   "version": "3.8.8"
  }
 },
 "nbformat": 4,
 "nbformat_minor": 5
}
